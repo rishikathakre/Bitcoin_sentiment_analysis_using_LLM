{
 "cells": [
  {
   "cell_type": "markdown",
   "id": "9c6c6a0c-9445-45c7-aad8-914c94fffa60",
   "metadata": {},
   "source": [
    "# Bitcoin LLM Sentiment API Demo\n",
    "\n",
    "This notebook demonstrates the core API layer for our real-time Bitcoin sentiment analysis project using OpenAI LLMs. \n",
    "We show basic usage of the utility functions in `bitcoin_llm_utils.py`.\n",
    "\n"
   ]
  },
  {
   "cell_type": "markdown",
   "id": "c6f8d1f1-4d97-4b07-973f-5407cc81ce9a",
   "metadata": {},
   "source": [
    "#### Import "
   ]
  },
  {
   "cell_type": "code",
   "execution_count": 15,
   "id": "e473d1fa-aa1d-4cb1-9864-49016ced5891",
   "metadata": {},
   "outputs": [],
   "source": [
    "from bitcoin_llm_utils import clean_text, analyze_sentiment_openai\n"
   ]
  },
  {
   "cell_type": "markdown",
   "id": "38ceb86c-cae4-4f00-a1d1-8c831bb8d40b",
   "metadata": {},
   "source": [
    "#### Testing on a sample"
   ]
  },
  {
   "cell_type": "code",
   "execution_count": 21,
   "id": "b633b08c-0dea-422d-b8c3-29b25f059afd",
   "metadata": {},
   "outputs": [
    {
     "name": "stdout",
     "output_type": "stream",
     "text": [
      " Original Text:\n",
      " \n",
      "Bitcoin continues to dominate the headlines as major investors anticipate another surge in value. \n",
      "However, concerns remain over regulatory changes and market volatility.\n",
      "\n"
     ]
    }
   ],
   "source": [
    "sample_text = \"\"\"\n",
    "Bitcoin continues to dominate the headlines as major investors anticipate another surge in value. \n",
    "However, concerns remain over regulatory changes and market volatility.\n",
    "\"\"\"\n",
    "\n",
    "print(\" Original Text:\\n\", sample_text)\n"
   ]
  },
  {
   "cell_type": "markdown",
   "id": "6da341fb-dbce-469a-b3ea-ec4440880de6",
   "metadata": {},
   "source": [
    "#### Cleaning the sample text"
   ]
  },
  {
   "cell_type": "code",
   "execution_count": 22,
   "id": "c3e52db2-3740-445a-8871-1355d307f835",
   "metadata": {},
   "outputs": [
    {
     "name": "stdout",
     "output_type": "stream",
     "text": [
      "Cleaned Text:\n",
      " Bitcoin continues to dominate the headlines as major investors anticipate another surge in value However concerns remain over regulatory changes and market volatility\n"
     ]
    }
   ],
   "source": [
    "cleaned = clean_text(sample_text)\n",
    "print(\"Cleaned Text:\\n\", cleaned)\n"
   ]
  },
  {
   "cell_type": "markdown",
   "id": "43699418-a9e3-4715-82dd-928708faa044",
   "metadata": {},
   "source": [
    "#### Checking the sentiment of the sample_text using LLM"
   ]
  },
  {
   "cell_type": "code",
   "execution_count": 23,
   "id": "27a08767-b6cb-4434-8ceb-9be4bbdb31e8",
   "metadata": {},
   "outputs": [
    {
     "name": "stdout",
     "output_type": "stream",
     "text": [
      "Sentiment: Neutral\n"
     ]
    }
   ],
   "source": [
    "sentiment = analyze_sentiment_openai(cleaned)\n",
    "print(\"Sentiment:\", sentiment)\n"
   ]
  },
  {
   "cell_type": "markdown",
   "id": "0fb8244a-125a-4638-9ce8-a4a885da7791",
   "metadata": {},
   "source": [
    "#### Sample_text 2"
   ]
  },
  {
   "cell_type": "code",
   "execution_count": 24,
   "id": "54cc09bd-bd2d-4f4a-a6c5-7c4ac950f89b",
   "metadata": {},
   "outputs": [
    {
     "name": "stdout",
     "output_type": "stream",
     "text": [
      "Cleaned Text:\n",
      " Following a major hack on a cryptocurrency exchange Bitcoin prices plummeted by over 20 overnight Investors fear more losses ahead\n",
      "Sentiment: Negative\n"
     ]
    }
   ],
   "source": [
    "sample_text2 = \"\"\"\n",
    "Following a major hack on a cryptocurrency exchange, Bitcoin prices plummeted by over 20% overnight. \n",
    "Investors fear more losses ahead.\n",
    "\"\"\"\n",
    "\n",
    "cleaned2 = clean_text(sample_text2)\n",
    "sentiment2 = analyze_sentiment_openai(cleaned2)\n",
    "\n",
    "print(\"Cleaned Text:\\n\", cleaned2)\n",
    "print(\"Sentiment:\", sentiment2)\n"
   ]
  },
  {
   "cell_type": "markdown",
   "id": "d2334606-0d9a-405a-9557-f07b27b47f1b",
   "metadata": {},
   "source": [
    "### Summary\n",
    "\n",
    "This notebook demonstrated:\n",
    "- How to use the API layer (`bitcoin_llm_utils.py`) to clean raw text\n",
    "- How to classify Bitcoin-related news sentiment using OpenAI LLMs\n",
    "\n",
    "These building blocks are used in the main system for:\n",
    "- Real-time Bitcoin news analysis\n",
    "- Time series feature generation for forecasting\n",
    "- Dashboard visualization\n",
    "\n",
    "This file serves as a clean, reproducible demo of the API module.\n"
   ]
  },
  {
   "cell_type": "code",
   "execution_count": null,
   "id": "6d71e3a0-8751-4487-84b9-9acc0679fd6f",
   "metadata": {},
   "outputs": [],
   "source": []
  }
 ],
 "metadata": {
  "kernelspec": {
   "display_name": "Python 3 (ipykernel)",
   "language": "python",
   "name": "python3"
  },
  "language_info": {
   "codemirror_mode": {
    "name": "ipython",
    "version": 3
   },
   "file_extension": ".py",
   "mimetype": "text/x-python",
   "name": "python",
   "nbconvert_exporter": "python",
   "pygments_lexer": "ipython3",
   "version": "3.11.7"
  }
 },
 "nbformat": 4,
 "nbformat_minor": 5
}
